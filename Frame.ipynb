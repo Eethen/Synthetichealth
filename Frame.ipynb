{
 "cells": [
  {
   "cell_type": "markdown",
   "metadata": {},
   "source": [
    "## Tables\n",
    "- allergies.csv:\tPatient allergy data.\n",
    "- careplans.csv:\tPatient care plan data, including goals.\n",
    "- conditions.csv:\tPatient conditions or diagnoses.\n",
    "- encounters.csv:\tPatient encounter data.\n",
    "- imaging_studies.csv:\tPatient imaging metadata.\n",
    "- immunizations.csv:\tPatient immunization data.\n",
    "- medications.csv:\tPatient medication data.\n",
    "- observations.csv:\tPatient observations including vital signs and lab reports.\n",
    "- patients.csv:\tPatient demographic data.\n",
    "- procedures.csv:\tPatient procedure data including surgeries."
   ]
  },
  {
   "cell_type": "markdown",
   "metadata": {},
   "source": [
    "### Concepts\n",
    "- SNOMED-CT\n",
    "  - Allergy/(Code, Description)\n",
    "\n",
    "- UUID: data type\n",
    "\n",
    "- Encounter class\n",
    "  - Encounter/(EncounterClass, Description)\n",
    "  \n",
    "- Line item\n",
    "  - Encounter/(EncounterClass, Description)\n",
    "  - Encounter/(Cost, Description)\n",
    "  \n",
    "- Modality Code: DICOM-DCM \n",
    "  - Imaging Studies/(Modality Code, Description)\n",
    "  \n",
    "- SOP Code: DICOM-SOP\n",
    "  - Imaging Studies/(SOP Code, Description)\n",
    "  \n",
    "- CVX\n",
    "  - Immunizations/(Code, Description)\n",
    "  \n",
    "- RxNorm\n",
    "  - Medications/(Code, Description)\n",
    "  \n",
    "- LOINC\n",
    "  - Observations/(Code, Description)\n"
   ]
  },
  {
   "cell_type": "markdown",
   "metadata": {},
   "source": [
    "### Thoughts\n",
    "in general, cross section description + prediction\n",
    "\n",
    "- allergy + careplan\n",
    "  - individual + conditional description\n",
    "  \n",
    "\n",
    "- Directions\n",
    "    - __description__: \n",
    "      - proportion by state \n",
    "        - precision\n",
    "      - decomposition factors: race, gender\n",
    "        - regulations\n",
    "      - public data source\n",
    "\n",
    "    - __prediction__:\n",
    "      - transition: \n",
    "        - Synthea decompose\n",
    "        - historical analysis over\n",
    "\n",
    "      - historical analysis:\n",
    "        - state\n",
    "\n",
    "    - __Visualization__\n",
    "      - interaction: by date, by gender, by disease, age(percentile analysis)\n",
    "\n",
    "- Deliverables: prefit\n",
    "    - map with colors\n",
    "      - current dissease distribution by disease: absolute number or proportion\n",
    "        - proportion: increase - transition\n",
    "      - disease break-down by state\n",
    "      - future change: rank by increase, by absolute scale\n",
    "      - by age\n",
    "      \n",
    "      \n",
    "    - table:\n",
    "      - by disease, by state, \n",
    "      - by age\n",
    "\n",
    "\n",
    "\n",
    "- price: no data"
   ]
  },
  {
   "cell_type": "markdown",
   "metadata": {},
   "source": [
    "### SPIKE\n",
    "- generator reliability + mechnism\n",
    "\n",
    "- sales business + products\n",
    "  - business value\n",
    "  - metrics\n",
    "  - provided services\n",
    "  \n",
    "- time scope\n",
    "\n",
    "- Expectation:\n",
    "  - __Q: we want to bring a surprise or to finish__\n",
    "  - __services, sales and metrics:__"
   ]
  },
  {
   "cell_type": "markdown",
   "metadata": {},
   "source": [
    "### Data Exploration\n",
    "- care plan: summary\n",
    "- description: summary - if standard - key words"
   ]
  },
  {
   "cell_type": "markdown",
   "metadata": {},
   "source": [
    "## Background\n",
    "https://github.com/synthetichealth/synthea/wiki"
   ]
  },
  {
   "cell_type": "markdown",
   "metadata": {},
   "source": [
    "## Paper\n",
    "\n",
    "### Terms\n",
    "- page 1 \n",
    "  - Health Level-7 [HL7] Fast Healthcare Interoperability Resources [FHIR] and Consolidated-Clinical Document Architecture\n",
    "\n",
    "- page 2: \n",
    "  - MITRE Corporation, the HIKER Group (spanning Massey University, New Zealand; the University of Montana, USA; and Macquarie University, Australia)\n",
    "  - EMERGE\n",
    "  - medGAN\n",
    "  - care map: Conceptual framework for synthetic EHR generation\n",
    "- page 3:\n",
    "  - Public data gathered from aggregate health inci- dent statistics, clinical practice guidelines (CPGs), and medical coding dictionaries are extrapolated and injected into the generation process and applied to the synthetic patient.\n",
    "\n",
    "  - Care maps are developed from clinician input and CPGs, and a temporal model for each patient is configured using state-transition machines, as demon- strated by both content modelling for synthetic E-Health records20 and Synthea."
   ]
  },
  {
   "cell_type": "markdown",
   "metadata": {},
   "source": [
    "## Generated Data\n",
    "- P 3, Results\n",
    "- https://syntheticmass.mitre.org/fhir/metadata"
   ]
  },
  {
   "cell_type": "markdown",
   "metadata": {},
   "source": [
    "### Other Data Source\n",
    "- Page 3, Materials and Methods\n",
    "    - __global Burden of Disease data for the United States__\n",
    "      - http://www.healthdata.org/gbd/data\n",
    "      - http://www.who.int/healthinfo/global_burden_disease/about/en/\n",
    "      - Disability-adjusted life-year (DALY): as a single measure to quantify the burden of diseases, injuries and risk factors.\n",
    "        - DALY is based on years of life lost from premature death and years of life lived in less than full health\n",
    "      - __historical population by states found:__\n",
    "        - http://ghdx.healthdata.org/record/global-burden-disease-study-2017-gbd-2017-population-estimates-1950-2017\n",
    "      \n",
    "      - __Socio-demographi index (SDI)__: Developed by GBD researchers and used to help produce these estimates, the Socio-demographic Index (SDI) is a summary measure of a geography's socio-demographic development. It is based on average income per person, educational attainment, and total fertility rate (TFR). SDI contains an interpretable scale: zero represents the lowest income per capita, lowest educational attainment, and highest TFR observed across all GBD geographies from 1980 to 2015, and one represents the highest income per capita, highest educational attainment, and lowest TFR. This dataset provides tables with SDI values for all estimated GBD 2015 geographies for 1980–2015 and groupings by geography based on 2015 values.\n",
    "      - __other terms__: http://www.healthdata.org/results/country-profiles\n",
    "      \n",
    "      \n",
    "      \n",
    "  - __US Census Bureau demographics__\n",
    "      - https://www.census.gov/ces/dataproducts/demographicdata.html\n",
    "      - https://www.census.gov/data/tables/2017/demo/popest/state-total.html\n",
    "      - https://www.census.gov/data/datasets/2017/demo/popest/state-detail.html\n",
    "        - __population by state__\n",
    "      - https://www.census.gov/data/tables/time-series/demo/income-poverty/cps-hi/hi-01.html\n",
    "        - insurance\n",
    "        \n",
    "        \n",
    "  - Centers for disease control and prevention prevalence and incidence rates\n",
    "      - https://www.cdc.gov/datastatistics/index.html\n",
    "      - https://www.cdc.gov/asthma/most_recent_data.htm\n",
    "        https://www.cdc.gov/asthma/most_recent_data_states.htm\n",
    "        - asthma: nationwide and region\n",
    "\n",
    "\n",
    "  - __National Institutes of health reports__\n",
    "      - https://report.nih.gov/databases.aspx\n",
    "      - __To figure out: how to search for survey data__\n",
    "      \n",
    "      \n",
    "- WHO: http://apps.who.int/gho/data/node.home\n",
    "  - http://apps.who.int/gho/data/node.country\n",
    "  - data by region/ countries\n",
    "  \n",
    "  \n",
    "- Drug Product Database\n",
    "  - https://www.canada.ca/en/health-canada/services/drugs-health-products/drug-products/drug-product-database/what-data-extract-drug-product-database.html\n",
    "  - Canada"
   ]
  },
  {
   "cell_type": "markdown",
   "metadata": {},
   "source": [
    "### Modules\n",
    "- Top 10 Reasons Patients Visit PCP\tTop 10 Years of Life Lost:\n",
    "https://github.com/synthetichealth/synthea/wiki#currently-supported-diseases\n",
    "\n",
    "- Transition: Page 5\n",
    "\n",
    "\n",
    "- Initial distribution solved:\n",
    "  - src/main/resources/geography/demographics.csv\n",
    "\n",
    "  \n"
   ]
  },
  {
   "cell_type": "markdown",
   "metadata": {},
   "source": [
    "### Limitations\n",
    "- "
   ]
  },
  {
   "cell_type": "markdown",
   "metadata": {},
   "source": [
    "## Business\n",
    "- products:\n",
    "  https://www.gsk.com/en-gb/products/\n",
    "  https://www.gsk.com/en-gb/products/our-prescription-medicines/\n",
    "  - needs professional expertise\n",
    "- key words:"
   ]
  },
  {
   "cell_type": "code",
   "execution_count": null,
   "metadata": {},
   "outputs": [],
   "source": []
  }
 ],
 "metadata": {
  "kernelspec": {
   "display_name": "Python 3",
   "language": "python",
   "name": "python3"
  },
  "language_info": {
   "codemirror_mode": {
    "name": "ipython",
    "version": 3
   },
   "file_extension": ".py",
   "mimetype": "text/x-python",
   "name": "python",
   "nbconvert_exporter": "python",
   "pygments_lexer": "ipython3",
   "version": "3.7.0"
  }
 },
 "nbformat": 4,
 "nbformat_minor": 2
}
