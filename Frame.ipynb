{
 "cells": [
  {
   "cell_type": "markdown",
   "metadata": {},
   "source": [
    "## Tables\n",
    "- allergies.csv:\tPatient allergy data.\n",
    "- careplans.csv:\tPatient care plan data, including goals.\n",
    "- conditions.csv:\tPatient conditions or diagnoses.\n",
    "- encounters.csv:\tPatient encounter data.\n",
    "- imaging_studies.csv:\tPatient imaging metadata.\n",
    "- immunizations.csv:\tPatient immunization data.\n",
    "- medications.csv:\tPatient medication data.\n",
    "- observations.csv:\tPatient observations including vital signs and lab reports.\n",
    "- patients.csv:\tPatient demographic data.\n",
    "- procedures.csv:\tPatient procedure data including surgeries."
   ]
  },
  {
   "cell_type": "markdown",
   "metadata": {},
   "source": [
    "### Concepts\n",
    "- SNOMED-CT\n",
    "  - Allergy/(Code, Description)\n",
    "\n",
    "- UUID: data type\n",
    "\n",
    "- Encounter class\n",
    "  - Encounter/(EncounterClass, Description)\n",
    "  \n",
    "- Line item\n",
    "  - Encounter/(EncounterClass, Description)\n",
    "  - Encounter/(Cost, Description)\n",
    "  \n",
    "- Modality Code: DICOM-DCM \n",
    "  - Imaging Studies/(Modality Code, Description)\n",
    "  \n",
    "- SOP Code: DICOM-SOP\n",
    "  - Imaging Studies/(SOP Code, Description)\n",
    "  \n",
    "- CVX\n",
    "  - Immunizations/(Code, Description)\n",
    "  \n",
    "- RxNorm\n",
    "  - Medications/(Code, Description)\n",
    "  \n",
    "- LOINC\n",
    "  - Observations/(Code, Description)"
   ]
  },
  {
   "cell_type": "markdown",
   "metadata": {},
   "source": [
    "### Thoughts\n",
    "in general, cross section description + prediction\n",
    "\n",
    "- allergy + careplan\n",
    "  - individual + conditional description"
   ]
  },
  {
   "cell_type": "markdown",
   "metadata": {},
   "source": [
    "### SPIKE\n",
    "- generator reliability + mechnism\n",
    "\n",
    "- sales business + products\n",
    "  - business value\n",
    "\n",
    "- time scope\n",
    "\n",
    "- client expectation"
   ]
  },
  {
   "cell_type": "markdown",
   "metadata": {},
   "source": [
    "### Data Exploration\n",
    "- care plan: summary\n",
    "- description: summary - if standard - key words"
   ]
  }
 ],
 "metadata": {
  "kernelspec": {
   "display_name": "Python 3",
   "language": "python",
   "name": "python3"
  },
  "language_info": {
   "codemirror_mode": {
    "name": "ipython",
    "version": 3
   },
   "file_extension": ".py",
   "mimetype": "text/x-python",
   "name": "python",
   "nbconvert_exporter": "python",
   "pygments_lexer": "ipython3",
   "version": "3.7.0"
  }
 },
 "nbformat": 4,
 "nbformat_minor": 2
}
