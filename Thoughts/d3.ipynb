{
 "cells": [
  {
   "cell_type": "markdown",
   "metadata": {},
   "source": [
    "## \n",
    "\n",
    "## Choropleth map\n",
    "### 1. Tools: D3, HTML, JS\n",
    "- http://bl.ocks.org/michellechandra/0b2ce4923dc9b5809922\n",
    "- https://github.com/d3/d3-3.x-api-reference/blob/master/Geo-Projections.md\n",
    "- http://enjalot.github.io/intro-d3/maptime/geo/\n",
    "\n",
    "### 2. Example codes for generating map\n",
    "- https://bl.ocks.org/mbostock/4090848\n",
    "- http://bl.ocks.org/mapsam/6083585\n",
    "- https://github.com/topojson/topojson/wiki\n",
    "\n",
    "- topojson\n",
    "https://github.com/topojson/topojson/wiki\n",
    "- \n",
    "\n",
    "- \n",
    "##"
   ]
  },
  {
   "cell_type": "markdown",
   "metadata": {},
   "source": [
    "## Understanding the model\n",
    "- submodels: https://github.com/synthetichealth/synthea/wiki/Generic-Module-Framework%3A-Submodules\n",
    "  - location and types: src/main/resources/modules/\n",
    "  \n",
    "- conditionOnset: https://github.com/synthetichealth/synthea/wiki/Generic-Module-Framework%3A-States#conditiononset\n",
    "  - acquires a condition but not necessarily to be diagnosed\n",
    " \n",
    "- Disease search\n",
    "  - Tables:\n",
    "    - Conditions.csv: https://github.com/synthetichealth/synthea/wiki/CSV-File-Data-Dictionary\n",
    "    - __Diagnosis code from SNOMED-CT__\n",
    "    - Encounters.csv: https://github.com/synthetichealth/synthea/wiki/CSV-File-Data-Dictionary\n",
    "    - ReasonCode\n",
    "    - ReasonDescription\n",
    "\n",
    "  - SNOMED-CT code: for diease name\n",
    "  \n",
    "  - Main modules\n",
    "  \n",
    "- Configuration: not accessible\n",
    "  - unit: https://github.com/synthetichealth/synthea/wiki/Generic-Module-Framework%3A-Basics\n",
    "  \n",
    "- data cleaning:\n",
    "  - other application: https://github.com/synthetichealth/synthea/wiki/HL7-FHIR"
   ]
  },
  {
   "cell_type": "code",
   "execution_count": null,
   "metadata": {},
   "outputs": [],
   "source": []
  }
 ],
 "metadata": {
  "kernelspec": {
   "display_name": "Python 3",
   "language": "python",
   "name": "python3"
  },
  "language_info": {
   "codemirror_mode": {
    "name": "ipython",
    "version": 3
   },
   "file_extension": ".py",
   "mimetype": "text/x-python",
   "name": "python",
   "nbconvert_exporter": "python",
   "pygments_lexer": "ipython3",
   "version": "3.7.0"
  }
 },
 "nbformat": 4,
 "nbformat_minor": 2
}
