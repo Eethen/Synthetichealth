{
<<<<<<< HEAD
 "cells": [],
 "metadata": {},
=======
 "cells": [
  {
   "cell_type": "markdown",
   "metadata": {},
   "source": [
    "# Directions\n",
    "## Demand and Cost\n",
    "- {Demand: target population, cost: e.g. "
   ]
  },
  {
   "cell_type": "markdown",
   "metadata": {},
   "source": [
    "# Features"
   ]
  },
  {
   "cell_type": "markdown",
   "metadata": {},
   "source": [
    "## 1. Population of Certain Health Issues - Estimation (Current)\n",
    "- Catagory factors: by state, by issue (top 10 diseases)\n",
    "  - extension: age, gender, care plan\n",
    "- __Form: colored map or heat map__\n",
    "  - interaction: disease, factors\n",
    "- Data: integer scalar (point estimate), integer interval\n",
    "- __Business values__: surogate for potential market\n",
    "  - extension: explanatory variable for sales, explaination and/or prediction\n",
    "- Dependency: \n",
    "  - Distribution\n",
    "  - Population, sub-population\n",
    "- Methods: \n",
    "  - Simulation\n",
    "  - Explicit\n",
    "    - e.g. Given: $ population = 1000 $, $Prob(A) = 0.7$, then $700( =1000 * 0.7) $ ppl of A"
   ]
  },
  {
   "cell_type": "markdown",
   "metadata": {},
   "source": [
    "## 2. Population of Certain Health Issues - Prediction (Future)\n",
    "- Catagory factors: by state, by issue (top 10 diseases)\n",
    "  - extension: age, gender, care plan\n",
    "- Form: colored map or heat map\n",
    "  - interaction: disease\n",
    "- Data: integer scalar (point estimate), integer interval\n",
    "- __Business values__: surogate for potential market\n",
    "  - extension: explanatory variable for sales, explaination and/or prediction\n",
    "- Dependency: \n",
    "  - __next period Initial distribution__\n",
    "    - estimation\n",
    "  - Population, sub-population\n",
    "- Methods: \n",
    "  - Mean, Variance\n",
    "    - e.g. Given: $ population = 1000 $, $Prob(A) = 0.7$, then $700( =1000 * 0.7) $ ppl of A"
   ]
  },
  {
   "cell_type": "markdown",
   "metadata": {},
   "source": [
    "## 3. GSK Product\n",
    "- Link the disease to product: e.g. recommendation\n",
    "  - extention: link the care plan to product"
   ]
  },
  {
   "cell_type": "markdown",
   "metadata": {},
   "source": [
    "## 4. Sales Data:\n",
    "- prediction: sales ~ previous demographic distribution"
   ]
  },
  {
   "cell_type": "markdown",
   "metadata": {},
   "source": [
    "# Questions\n",
    "## What is useful to Sales\n",
    "- Metrics\n",
    "  - health metrics\n",
    "  - metrics, in general, of their interest\n",
    "- Some to talk to or black box\n",
    "\n",
    "## Any Internal Data We can"
   ]
  },
  {
   "cell_type": "markdown",
   "metadata": {},
   "source": [
    "## Summary of Simulator\n",
    "- Result distribution\n",
    "- Tranisting process"
   ]
  },
  {
   "cell_type": "code",
   "execution_count": null,
   "metadata": {},
   "outputs": [],
   "source": []
  }
 ],
 "metadata": {
  "kernelspec": {
   "display_name": "Python 3",
   "language": "python",
   "name": "python3"
  },
  "language_info": {
   "codemirror_mode": {
    "name": "ipython",
    "version": 3
   },
   "file_extension": ".py",
   "mimetype": "text/x-python",
   "name": "python",
   "nbconvert_exporter": "python",
   "pygments_lexer": "ipython3",
   "version": "3.7.0"
  }
 },
>>>>>>> bc3ea1df041aa6d1adc70d6b4be3d22101baeb05
 "nbformat": 4,
 "nbformat_minor": 2
}
